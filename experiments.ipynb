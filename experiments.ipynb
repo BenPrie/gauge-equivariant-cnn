{
 "cells": [
  {
   "cell_type": "code",
   "execution_count": 31,
   "id": "initial_id",
   "metadata": {
    "collapsed": true,
    "ExecuteTime": {
     "end_time": "2025-03-27T22:34:07.988458100Z",
     "start_time": "2025-03-27T22:34:07.974528800Z"
    }
   },
   "outputs": [],
   "source": [
    "# Imports as always...\n",
    "from tqdm.notebook import tqdm\n",
    "\n",
    "import torch\n",
    "import torch.nn as nn\n",
    "import torch.nn.functional as F\n",
    "from torch.utils.data import DataLoader, Subset\n",
    "\n",
    "from icoCNN.tools import random_icosahedral_rotation_matrix, rotate_signal"
   ]
  },
  {
   "cell_type": "code",
   "execution_count": 2,
   "outputs": [],
   "source": [
    "from scipts import datasets, models, training"
   ],
   "metadata": {
    "collapsed": false,
    "ExecuteTime": {
     "end_time": "2025-03-27T22:21:28.442954600Z",
     "start_time": "2025-03-27T22:21:26.646469500Z"
    }
   },
   "id": "ffa5db4d260d5c9c"
  },
  {
   "cell_type": "code",
   "execution_count": 3,
   "outputs": [],
   "source": [
    "import matplotlib.pyplot as plt\n",
    "import plotly.graph_objects as go\n",
    "import plotly.io as pio\n",
    "\n",
    "plt.style.use('ggplot')\n",
    "pio.renderers.default = 'notebook'"
   ],
   "metadata": {
    "collapsed": false,
    "ExecuteTime": {
     "end_time": "2025-03-27T22:21:28.597632300Z",
     "start_time": "2025-03-27T22:21:28.427063900Z"
    }
   },
   "id": "c68c541c2029069"
  },
  {
   "cell_type": "code",
   "execution_count": 4,
   "outputs": [],
   "source": [
    "import warnings\n",
    "warnings.filterwarnings('ignore')"
   ],
   "metadata": {
    "collapsed": false,
    "ExecuteTime": {
     "end_time": "2025-03-27T22:21:28.598637900Z",
     "start_time": "2025-03-27T22:21:28.567649900Z"
    }
   },
   "id": "2a4fe307ef57b6ff"
  },
  {
   "cell_type": "code",
   "execution_count": 5,
   "outputs": [
    {
     "name": "stdout",
     "output_type": "stream",
     "text": [
      "Using cuda.\n"
     ]
    }
   ],
   "source": [
    "device = torch.device(\"cuda\" if torch.cuda.is_available() else \"cpu\")\n",
    "print(f'Using {device}.')"
   ],
   "metadata": {
    "collapsed": false,
    "ExecuteTime": {
     "end_time": "2025-03-27T22:21:29.656289900Z",
     "start_time": "2025-03-27T22:21:28.571740500Z"
    }
   },
   "id": "b46c0815dc289a87"
  },
  {
   "cell_type": "markdown",
   "source": [
    "# Experiments"
   ],
   "metadata": {
    "collapsed": false
   },
   "id": "4ce3075bd79e596c"
  },
  {
   "cell_type": "code",
   "execution_count": 6,
   "outputs": [],
   "source": [
    "def experiment(model_type, r, augment, train=True, save_model=False, save_stats=False, batch_size=128, n_epochs=10, lr=1e-3, verbose=False, print_interval=1):\n",
    "    assert model_type in ['ico', 'spherical'], 'Unrecognised model type.'\n",
    "    \n",
    "    # Output dictionary.\n",
    "    output = {}\n",
    "    \n",
    "    # Dataset.\n",
    "    if model_type == 'ico':\n",
    "        dataset = datasets.PrecomputedIcosahedralMNIST(r, augment)\n",
    "    else:\n",
    "        # TODO: Pre-computed spherical dataset.\n",
    "        dataset = None\n",
    "    \n",
    "    # Train-val-test split (deterministic). We'll do 2/3, 1/6, 1/6.\n",
    "    N = len(dataset)\n",
    "    train_indices = list(range(0, 2*N//3))\n",
    "    val_indices = list(range(2*N//3, 5*N//6))\n",
    "    test_indices = list(range(5*N//6, N))\n",
    "    \n",
    "    train_dataset = Subset(dataset, train_indices)\n",
    "    val_dataset = Subset(dataset, val_indices)\n",
    "    test_dataset = Subset(dataset, test_indices)\n",
    "    \n",
    "    # Dataloaders.\n",
    "    train_loader = DataLoader(train_dataset, batch_size, shuffle=True)\n",
    "    val_loader = DataLoader(val_dataset, batch_size, shuffle=False)\n",
    "    test_loader = DataLoader(test_dataset, batch_size, shuffle=False)\n",
    "    \n",
    "    # Model.\n",
    "    if model_type == 'ico':\n",
    "        model = models.IcoCNNClassifierNoPooling(\n",
    "            r,\n",
    "            in_channels=1, \n",
    "            out_channels=10, \n",
    "            R_in=1, \n",
    "            bias=True, \n",
    "            smooth_vertices=True\n",
    "        )\n",
    "    else:\n",
    "        # TODO: Spherical CNN.\n",
    "        model = None\n",
    "        \n",
    "    model.to(device)\n",
    "    output['Model'] = model\n",
    "        \n",
    "    # Train.\n",
    "    if train:\n",
    "        output['Train Stats'] = training.experiment(\n",
    "            model,\n",
    "            train_loader,\n",
    "            val_loader,\n",
    "            device,\n",
    "            n_epochs,\n",
    "            lr,\n",
    "            verbose,\n",
    "            print_interval\n",
    "        )\n",
    "        \n",
    "        # Save.\n",
    "        if save_stats:\n",
    "            # TODO: Save train stats.\n",
    "            pass\n",
    "        \n",
    "        if save_model:\n",
    "            if augment == 'none':\n",
    "                torch.save(model.state_dict(), f'./models/IcoCNN/ico{r}.pth')\n",
    "            elif augment == 'ico':\n",
    "                torch.save(model.state_dict(), f'./models/IcoCNN/ico{r}_augmented.pth')\n",
    "            elif augment == 'all ico':\n",
    "                torch.save(model.state_dict(), f'./models/IcoCNN/ico{r}_all_symmetries.pth')\n",
    "            else:\n",
    "                # TODO: The others.\n",
    "                pass\n",
    "        \n",
    "    # Or load.\n",
    "    else:\n",
    "        if augment == 'none':\n",
    "            model.load_state_dict(torch.load(f'./models/IcoCNN/ico{r}.pth'))\n",
    "        elif augment == 'ico':\n",
    "            model.load_state_dict(torch.load(f'./models/IcoCNN/ico{r}_augmented.pth'))\n",
    "        elif augment == 'all ico':\n",
    "            model.load_state_dict(torch.load(f'./models/IcoCNN/ico{r}_all_symmetries.pth'))\n",
    "        else:\n",
    "            # TODO: The others.\n",
    "            pass\n",
    "        \n",
    "    # Evaluate on test set.\n",
    "    output['Test Stats'] = training.evaluate(model, test_loader, torch.nn.CrossEntropyLoss(), device)\n",
    "    \n",
    "    return output"
   ],
   "metadata": {
    "collapsed": false,
    "ExecuteTime": {
     "end_time": "2025-03-27T16:22:39.318086Z",
     "start_time": "2025-03-27T16:22:39.318086Z"
    }
   },
   "id": "5e90d4750d670ef7"
  },
  {
   "cell_type": "code",
   "execution_count": 8,
   "outputs": [
    {
     "name": "stdout",
     "output_type": "stream",
     "text": [
      "All Icosahedral Symmetries Augmentation.\n"
     ]
    },
    {
     "data": {
      "text/plain": "Experiment.:   0%|          | 0/10 [00:00<?, ?it/s]",
      "application/vnd.jupyter.widget-view+json": {
       "version_major": 2,
       "version_minor": 0,
       "model_id": "805407b880e843a1bb030954c1d3d9a6"
      }
     },
     "metadata": {},
     "output_type": "display_data"
    },
    {
     "data": {
      "text/plain": "Train.:   0%|          | 0/18750 [00:00<?, ?it/s]",
      "application/vnd.jupyter.widget-view+json": {
       "version_major": 2,
       "version_minor": 0,
       "model_id": "4e1426d1220f48f0814739de0827e8a6"
      }
     },
     "metadata": {},
     "output_type": "display_data"
    },
    {
     "data": {
      "text/plain": "Eval.:   0%|          | 0/4688 [00:00<?, ?it/s]",
      "application/vnd.jupyter.widget-view+json": {
       "version_major": 2,
       "version_minor": 0,
       "model_id": "5b3c009407ea45538509523337b85a0c"
      }
     },
     "metadata": {},
     "output_type": "display_data"
    },
    {
     "name": "stdout",
     "output_type": "stream",
     "text": [
      "Epoch 1/10, Train Loss: 0.7635, Val Loss: 0.6480, Val Acc: 0.7904\n"
     ]
    },
    {
     "data": {
      "text/plain": "Train.:   0%|          | 0/18750 [00:00<?, ?it/s]",
      "application/vnd.jupyter.widget-view+json": {
       "version_major": 2,
       "version_minor": 0,
       "model_id": "3cdb96e57773416e9cfcf385451c68f8"
      }
     },
     "metadata": {},
     "output_type": "display_data"
    },
    {
     "data": {
      "text/plain": "Eval.:   0%|          | 0/4688 [00:00<?, ?it/s]",
      "application/vnd.jupyter.widget-view+json": {
       "version_major": 2,
       "version_minor": 0,
       "model_id": "85ef3768c9044d838c4d058a12c525ad"
      }
     },
     "metadata": {},
     "output_type": "display_data"
    },
    {
     "name": "stdout",
     "output_type": "stream",
     "text": [
      "Epoch 2/10, Train Loss: 0.5820, Val Loss: 0.6011, Val Acc: 0.8059\n"
     ]
    },
    {
     "data": {
      "text/plain": "Train.:   0%|          | 0/18750 [00:00<?, ?it/s]",
      "application/vnd.jupyter.widget-view+json": {
       "version_major": 2,
       "version_minor": 0,
       "model_id": "36d2e720f4a342928f9c9f9f272d781d"
      }
     },
     "metadata": {},
     "output_type": "display_data"
    },
    {
     "data": {
      "text/plain": "Eval.:   0%|          | 0/4688 [00:00<?, ?it/s]",
      "application/vnd.jupyter.widget-view+json": {
       "version_major": 2,
       "version_minor": 0,
       "model_id": "06ce9fcf4096443f8b8917c78b2c75cb"
      }
     },
     "metadata": {},
     "output_type": "display_data"
    },
    {
     "name": "stdout",
     "output_type": "stream",
     "text": [
      "Epoch 3/10, Train Loss: 0.5424, Val Loss: 0.5617, Val Acc: 0.8191\n"
     ]
    },
    {
     "data": {
      "text/plain": "Train.:   0%|          | 0/18750 [00:00<?, ?it/s]",
      "application/vnd.jupyter.widget-view+json": {
       "version_major": 2,
       "version_minor": 0,
       "model_id": "9209573a77f14265982e141d8413ba51"
      }
     },
     "metadata": {},
     "output_type": "display_data"
    },
    {
     "data": {
      "text/plain": "Eval.:   0%|          | 0/4688 [00:00<?, ?it/s]",
      "application/vnd.jupyter.widget-view+json": {
       "version_major": 2,
       "version_minor": 0,
       "model_id": "cc34451008e44d01af425315cdcc62f9"
      }
     },
     "metadata": {},
     "output_type": "display_data"
    },
    {
     "name": "stdout",
     "output_type": "stream",
     "text": [
      "Epoch 4/10, Train Loss: 0.5214, Val Loss: 0.5529, Val Acc: 0.8228\n"
     ]
    },
    {
     "data": {
      "text/plain": "Train.:   0%|          | 0/18750 [00:00<?, ?it/s]",
      "application/vnd.jupyter.widget-view+json": {
       "version_major": 2,
       "version_minor": 0,
       "model_id": "1945bdfab6c347f192fed9632575dacd"
      }
     },
     "metadata": {},
     "output_type": "display_data"
    },
    {
     "data": {
      "text/plain": "Eval.:   0%|          | 0/4688 [00:00<?, ?it/s]",
      "application/vnd.jupyter.widget-view+json": {
       "version_major": 2,
       "version_minor": 0,
       "model_id": "fb0bc68a5db94014a1fc63e9101d6276"
      }
     },
     "metadata": {},
     "output_type": "display_data"
    },
    {
     "name": "stdout",
     "output_type": "stream",
     "text": [
      "Epoch 5/10, Train Loss: 0.5074, Val Loss: 0.5388, Val Acc: 0.8270\n"
     ]
    },
    {
     "data": {
      "text/plain": "Train.:   0%|          | 0/18750 [00:00<?, ?it/s]",
      "application/vnd.jupyter.widget-view+json": {
       "version_major": 2,
       "version_minor": 0,
       "model_id": "8e7b4e5d11a147a39dc58b06195568dc"
      }
     },
     "metadata": {},
     "output_type": "display_data"
    },
    {
     "data": {
      "text/plain": "Eval.:   0%|          | 0/4688 [00:00<?, ?it/s]",
      "application/vnd.jupyter.widget-view+json": {
       "version_major": 2,
       "version_minor": 0,
       "model_id": "a696898edbb44d35b4e2f6d9f3332bb7"
      }
     },
     "metadata": {},
     "output_type": "display_data"
    },
    {
     "name": "stdout",
     "output_type": "stream",
     "text": [
      "Epoch 6/10, Train Loss: 0.4976, Val Loss: 0.5269, Val Acc: 0.8314\n"
     ]
    },
    {
     "data": {
      "text/plain": "Train.:   0%|          | 0/18750 [00:00<?, ?it/s]",
      "application/vnd.jupyter.widget-view+json": {
       "version_major": 2,
       "version_minor": 0,
       "model_id": "cf1debd4245f4fa3aacdd7ae1095a740"
      }
     },
     "metadata": {},
     "output_type": "display_data"
    },
    {
     "data": {
      "text/plain": "Eval.:   0%|          | 0/4688 [00:00<?, ?it/s]",
      "application/vnd.jupyter.widget-view+json": {
       "version_major": 2,
       "version_minor": 0,
       "model_id": "ff0b4a078cd14fa6b1a35b2af1904a02"
      }
     },
     "metadata": {},
     "output_type": "display_data"
    },
    {
     "name": "stdout",
     "output_type": "stream",
     "text": [
      "Epoch 7/10, Train Loss: 0.4901, Val Loss: 0.5232, Val Acc: 0.8314\n"
     ]
    },
    {
     "data": {
      "text/plain": "Train.:   0%|          | 0/18750 [00:00<?, ?it/s]",
      "application/vnd.jupyter.widget-view+json": {
       "version_major": 2,
       "version_minor": 0,
       "model_id": "1f73c749b61c498fad3d5a085b3c8f2f"
      }
     },
     "metadata": {},
     "output_type": "display_data"
    },
    {
     "data": {
      "text/plain": "Eval.:   0%|          | 0/4688 [00:00<?, ?it/s]",
      "application/vnd.jupyter.widget-view+json": {
       "version_major": 2,
       "version_minor": 0,
       "model_id": "3a625f8480b64d3a82b0cde9f58cdbc2"
      }
     },
     "metadata": {},
     "output_type": "display_data"
    },
    {
     "name": "stdout",
     "output_type": "stream",
     "text": [
      "Epoch 8/10, Train Loss: 0.4836, Val Loss: 0.5260, Val Acc: 0.8315\n"
     ]
    },
    {
     "data": {
      "text/plain": "Train.:   0%|          | 0/18750 [00:00<?, ?it/s]",
      "application/vnd.jupyter.widget-view+json": {
       "version_major": 2,
       "version_minor": 0,
       "model_id": "b30e3972fb20487b878cf7fa340120d2"
      }
     },
     "metadata": {},
     "output_type": "display_data"
    },
    {
     "data": {
      "text/plain": "Eval.:   0%|          | 0/4688 [00:00<?, ?it/s]",
      "application/vnd.jupyter.widget-view+json": {
       "version_major": 2,
       "version_minor": 0,
       "model_id": "ab37a78bbe884ac5987148f0f98c07d8"
      }
     },
     "metadata": {},
     "output_type": "display_data"
    },
    {
     "name": "stdout",
     "output_type": "stream",
     "text": [
      "Epoch 9/10, Train Loss: 0.4786, Val Loss: 0.5136, Val Acc: 0.8354\n"
     ]
    },
    {
     "data": {
      "text/plain": "Train.:   0%|          | 0/18750 [00:00<?, ?it/s]",
      "application/vnd.jupyter.widget-view+json": {
       "version_major": 2,
       "version_minor": 0,
       "model_id": "209934fefbf94104812a091945e66b09"
      }
     },
     "metadata": {},
     "output_type": "display_data"
    },
    {
     "data": {
      "text/plain": "Eval.:   0%|          | 0/4688 [00:00<?, ?it/s]",
      "application/vnd.jupyter.widget-view+json": {
       "version_major": 2,
       "version_minor": 0,
       "model_id": "d3f59724cfc84d3eadea0cf34450c841"
      }
     },
     "metadata": {},
     "output_type": "display_data"
    },
    {
     "name": "stdout",
     "output_type": "stream",
     "text": [
      "Epoch 10/10, Train Loss: 0.4752, Val Loss: 0.5147, Val Acc: 0.8346\n"
     ]
    }
   ],
   "source": [
    "output = experiment(\n",
    "    model_type='ico',\n",
    "    r=2,\n",
    "    augment='all ico',\n",
    "    train=True,\n",
    "    save_model=True,\n",
    "    save_stats=False,\n",
    "    batch_size=128,\n",
    "    n_epochs=10,\n",
    "    lr=1e-3,\n",
    "    verbose=True,\n",
    "    print_interval=1\n",
    ")"
   ],
   "metadata": {
    "collapsed": false,
    "ExecuteTime": {
     "end_time": "2025-03-27T18:10:55.664594800Z",
     "start_time": "2025-03-27T16:24:18.706343400Z"
    }
   },
   "id": "1b5f9295d267bb25"
  },
  {
   "cell_type": "markdown",
   "source": [
    "## IcoCNN Experiments"
   ],
   "metadata": {
    "collapsed": false
   },
   "id": "9f33549647a526aa"
  },
  {
   "cell_type": "code",
   "execution_count": 8,
   "outputs": [],
   "source": [
    "# Pre-defined model (models are trained for the below architecture).\n",
    "def blank_model(r):\n",
    "    return models.IcoCNNClassifierNoPooling(\n",
    "        r,\n",
    "        in_channels=1, \n",
    "        out_channels=10, \n",
    "        R_in=1, \n",
    "        bias=True, \n",
    "        smooth_vertices=True\n",
    "    )"
   ],
   "metadata": {
    "collapsed": false,
    "ExecuteTime": {
     "end_time": "2025-03-27T22:22:23.489341900Z",
     "start_time": "2025-03-27T22:22:23.473135400Z"
    }
   },
   "id": "b354465656db0f96"
  },
  {
   "cell_type": "code",
   "execution_count": 139,
   "outputs": [
    {
     "data": {
      "text/plain": "tensor(0.1392)"
     },
     "execution_count": 139,
     "metadata": {},
     "output_type": "execute_result"
    }
   ],
   "source": [
    "a = -torch.rand((10,))\n",
    "b = torch.rand((10,))\n",
    "\n",
    "torch.norm(F.softmax(a) - F.softmax(b))"
   ],
   "metadata": {
    "collapsed": false,
    "ExecuteTime": {
     "end_time": "2025-03-28T00:31:26.989243200Z",
     "start_time": "2025-03-28T00:31:26.963801Z"
    }
   },
   "id": "4b629612532a8f4e"
  },
  {
   "cell_type": "code",
   "execution_count": 147,
   "outputs": [],
   "source": [
    "# Measuring invariance error for a given model and sample.\n",
    "def measure_invariance_error(model, x, x_rot):\n",
    "    return F.kl_div(F.log_softmax(model(x)), F.log_softmax(model(x_rot)), log_target=True).item()\n",
    "\n",
    "    #return torch.norm(F.softmax(model(x)) - F.softmax(model(x_rot))).item()"
   ],
   "metadata": {
    "collapsed": false,
    "ExecuteTime": {
     "end_time": "2025-03-28T00:35:20.064181400Z",
     "start_time": "2025-03-28T00:35:20.056849600Z"
    }
   },
   "id": "d29779cdf976e127"
  },
  {
   "cell_type": "code",
   "execution_count": 150,
   "outputs": [
    {
     "name": "stdout",
     "output_type": "stream",
     "text": [
      "No Augmentation.\n",
      "Random Icosahedral Rotation Augmentation.\n"
     ]
    }
   ],
   "source": [
    "# Test datasets for evaluation.\n",
    "full_dataset = datasets.PrecomputedIcosahedralMNIST(r=2, augment='none')\n",
    "pre_aug_dataset = datasets.PrecomputedIcosahedralMNIST(r=2, augment='ico')\n",
    "test_indices = list(range(5*len(full_dataset)//6, len(full_dataset)))\n",
    "test_dataset = Subset(full_dataset, test_indices)\n",
    "test_aug_dataset = Subset(pre_aug_dataset, test_indices)"
   ],
   "metadata": {
    "collapsed": false,
    "ExecuteTime": {
     "end_time": "2025-03-28T00:40:21.002358Z",
     "start_time": "2025-03-28T00:40:19.942131700Z"
    }
   },
   "id": "793b03488938a8a8"
  },
  {
   "cell_type": "code",
   "execution_count": 78,
   "outputs": [
    {
     "name": "stdout",
     "output_type": "stream",
     "text": []
    }
   ],
   "source": [
    "# Load in the non-augmented models.\n",
    "ico2_none = blank_model(r=2)\n",
    "ico2_none.load_state_dict(torch.load('./models/IcoCNN/ico2.pth'))\n",
    "ico2_augmented = blank_model(r=2)\n",
    "ico2_augmented.load_state_dict(torch.load('./models/IcoCNN/ico2_augmented.pth'))\n",
    "ico2_all_symmetries = blank_model(r=2)\n",
    "ico2_all_symmetries.load_state_dict(torch.load('./models/IcoCNN/ico2_all_symmetries.pth'))\n",
    "\n",
    "# Eval mode.\n",
    "ico2_none.eval()\n",
    "ico2_augmented.eval()\n",
    "ico2_all_symmetries.eval()\n",
    "\n",
    "print()"
   ],
   "metadata": {
    "collapsed": false,
    "ExecuteTime": {
     "end_time": "2025-03-28T00:04:48.395714300Z",
     "start_time": "2025-03-28T00:04:48.240071400Z"
    }
   },
   "id": "3b4f7766c114fa42"
  },
  {
   "cell_type": "code",
   "execution_count": 151,
   "outputs": [
    {
     "data": {
      "text/plain": "  0%|          | 0/10000 [00:00<?, ?it/s]",
      "application/vnd.jupyter.widget-view+json": {
       "version_major": 2,
       "version_minor": 0,
       "model_id": "ee34646fbe554cbfb3d2147a88444ac4"
      }
     },
     "metadata": {},
     "output_type": "display_data"
    }
   ],
   "source": [
    "# Tracking loss, accuracy, and invariance error (discrepancy between f(x) and Rf(x)).\n",
    "stats = {\n",
    "    # TODO: SO(3) rotations.\n",
    "    # Key convention: 'model - dataset'; e.g. 'none - ico' means the model trained for no augmentations evaluated on random icosahedral rotation. \n",
    "    'none - none': {'loss' : .0, 'acc': .0, 'ico err': .0},\n",
    "    'none - ico': {'loss' : .0, 'acc': .0, 'ico err': .0},\n",
    "    #'none - all ico': {'loss' : .0, 'acc': .0, 'ico err': .0},\n",
    "    'ico - none': {'loss' : .0, 'acc': .0, 'ico err': .0},\n",
    "    'ico - ico': {'loss' : .0, 'acc': .0, 'ico err': .0},\n",
    "    #'ico - all ico': {'loss' : .0, 'acc': .0, 'ico err': .0},\n",
    "    'all ico - none': {'loss' : .0, 'acc': .0, 'ico err': .0},\n",
    "    'all ico - ico': {'loss' : .0, 'acc': .0, 'ico err': .0},\n",
    "    #'all ico - all ico': {'loss' : .0, 'acc': .0, 'ico err': .0}\n",
    "}\n",
    "\n",
    "# Loss.\n",
    "loss_fn = nn.CrossEntropyLoss()\n",
    "with torch.no_grad():\n",
    "    for i in tqdm(range(len(test_dataset))):\n",
    "        x, y = test_dataset[i]\n",
    "        x_augmented = test_aug_dataset[i][0]\n",
    "        \n",
    "        # Unsqueeze to yield a batch dimension.\n",
    "        x_batch, y_batch = x.unsqueeze(1), y.unsqueeze(-1)\n",
    "        x_augmented_batch = x_augmented.unsqueeze(1)\n",
    "        \n",
    "        # --- None augmentation ---\n",
    "        \n",
    "        # Evaluate models on non-augmented sample.\n",
    "        out_none = ico2_none(x_batch)\n",
    "        out_ico = ico2_augmented(x_batch)\n",
    "        out_all_ico = ico2_all_symmetries(x_batch)\n",
    "        \n",
    "        # Add the stats.\n",
    "        stats['none - none']['loss'] += loss_fn(out_none, y_batch).item()\n",
    "        stats['ico - none']['loss'] += loss_fn(out_ico, y_batch).item()\n",
    "        stats['all ico - none']['loss'] += loss_fn(out_all_ico, y_batch).item()\n",
    "        stats['none - none']['acc'] += int(out_none.argmax() == y)\n",
    "        stats['ico - none']['acc'] += int(out_ico.argmax() == y)\n",
    "        stats['all ico - none']['acc'] += int(out_all_ico.argmax() == y)\n",
    "        \n",
    "        # Invariance error.\n",
    "        # Sample random (icosahedral) rotation, apply to the input signal, and pass to model.\n",
    "        x_batch_ico_rot = rotate_signal(x, random_icosahedral_rotation_matrix()).unsqueeze(1)\n",
    "        \n",
    "        stats['none - none']['ico err'] += measure_invariance_error(ico2_none, x_batch, x_batch_ico_rot)\n",
    "        stats['ico - none']['ico err'] += measure_invariance_error(ico2_augmented, x_batch, x_batch_ico_rot)\n",
    "        stats['all ico - none']['ico err'] += measure_invariance_error(ico2_all_symmetries, x_batch, x_batch_ico_rot)\n",
    "        \n",
    "        # --- Random Icosahedral Rotation Augmentation ---\n",
    "        \n",
    "        # Evaluate models on random icosahedral rotations.\n",
    "        out_none_aug = ico2_none(x_augmented_batch)\n",
    "        out_ico_aug = ico2_augmented(x_augmented_batch)\n",
    "        out_all_ico_aug = ico2_all_symmetries(x_augmented_batch)\n",
    "        \n",
    "        # Add the stats.\n",
    "        stats['none - ico']['loss'] += loss_fn(out_none_aug, y_batch).item()\n",
    "        stats['ico - ico']['loss'] += loss_fn(out_ico_aug, y_batch).item()\n",
    "        stats['all ico - ico']['loss'] += loss_fn(out_all_ico_aug, y_batch).item()\n",
    "        stats['none - ico']['acc'] += int(out_none_aug.argmax() == y)\n",
    "        stats['ico - ico']['acc'] += int(out_ico_aug.argmax() == y)\n",
    "        stats['all ico - ico']['acc'] += int(out_all_ico_aug.argmax() == y)\n",
    "        \n",
    "        # Invariance error.\n",
    "        x_aug_batch_ico_rot = rotate_signal(x_augmented, random_icosahedral_rotation_matrix()).unsqueeze(1)\n",
    "        \n",
    "        stats['none - ico']['ico err'] += measure_invariance_error(ico2_none, x_augmented_batch, x_aug_batch_ico_rot)\n",
    "        stats['ico - ico']['ico err'] += measure_invariance_error(ico2_augmented, x_augmented_batch, x_aug_batch_ico_rot)\n",
    "        stats['all ico - ico']['ico err'] += measure_invariance_error(ico2_all_symmetries, x_augmented_batch, x_aug_batch_ico_rot)\n",
    "\n",
    "    \n",
    "# Averaging.\n",
    "stats['none - none']['loss'] /= len(test_dataset)\n",
    "stats['ico - none']['loss'] /= len(test_dataset)\n",
    "stats['all ico - none']['loss'] /= len(test_dataset)\n",
    "stats['none - none']['acc'] /= len(test_dataset)\n",
    "stats['ico - none']['acc'] /= len(test_dataset)\n",
    "stats['all ico - none']['acc'] /= len(test_dataset)\n",
    "stats['none - none']['ico err'] /= len(test_dataset)\n",
    "stats['ico - none']['ico err'] /= len(test_dataset)\n",
    "stats['all ico - none']['ico err'] /= len(test_dataset)\n",
    "\n",
    "stats['none - ico']['loss'] /= len(test_dataset)\n",
    "stats['ico - ico']['loss'] /= len(test_dataset)\n",
    "stats['all ico - ico']['loss'] /= len(test_dataset)\n",
    "stats['none - ico']['acc'] /= len(test_dataset)\n",
    "stats['ico - ico']['acc'] /= len(test_dataset)\n",
    "stats['all ico - ico']['acc'] /= len(test_dataset)\n",
    "stats['none - ico']['ico err'] /= len(test_dataset)\n",
    "stats['ico - ico']['ico err'] /= len(test_dataset)\n",
    "stats['all ico - ico']['ico err'] /= len(test_dataset)\n",
    "\n",
    "# Rounding.\n",
    "for i, a in stats.items():\n",
    "    for j, b in a.items():\n",
    "        stats[i][j] = round(b, 4)"
   ],
   "metadata": {
    "collapsed": false,
    "ExecuteTime": {
     "end_time": "2025-03-28T00:47:27.381050700Z",
     "start_time": "2025-03-28T00:40:27.189286300Z"
    }
   },
   "id": "381805199eef390c"
  },
  {
   "cell_type": "code",
   "execution_count": 152,
   "outputs": [
    {
     "data": {
      "text/plain": "{'none - none': {'loss': 0.0968, 'acc': 0.9765, 'ico err': 2.1749},\n 'none - ico': {'loss': 16.1872, 'acc': 0.1205, 'ico err': 1.2364},\n 'ico - none': {'loss': 1.0416, 'acc': 0.6823, 'ico err': 0.1232},\n 'ico - ico': {'loss': 1.0829, 'acc': 0.6691, 'ico err': 0.2337},\n 'all ico - none': {'loss': 0.4079, 'acc': 0.868, 'ico err': 0.0471},\n 'all ico - ico': {'loss': 0.4328, 'acc': 0.8618, 'ico err': 0.2028}}"
     },
     "metadata": {},
     "output_type": "display_data"
    }
   ],
   "source": [
    "display(stats)"
   ],
   "metadata": {
    "collapsed": false,
    "ExecuteTime": {
     "end_time": "2025-03-28T00:47:27.464393700Z",
     "start_time": "2025-03-28T00:47:27.381050700Z"
    }
   },
   "id": "23366724b9876c69"
  }
 ],
 "metadata": {
  "kernelspec": {
   "display_name": "Python 3",
   "language": "python",
   "name": "python3"
  },
  "language_info": {
   "codemirror_mode": {
    "name": "ipython",
    "version": 2
   },
   "file_extension": ".py",
   "mimetype": "text/x-python",
   "name": "python",
   "nbconvert_exporter": "python",
   "pygments_lexer": "ipython2",
   "version": "2.7.6"
  }
 },
 "nbformat": 4,
 "nbformat_minor": 5
}
