{
 "cells": [
  {
   "cell_type": "code",
   "execution_count": 1,
   "id": "initial_id",
   "metadata": {
    "collapsed": true,
    "ExecuteTime": {
     "end_time": "2025-03-27T10:24:26.291893500Z",
     "start_time": "2025-03-27T10:24:22.462318700Z"
    }
   },
   "outputs": [],
   "source": [
    "# Imports as always...\n",
    "import numpy as np\n",
    "\n",
    "from tqdm.notebook import tqdm\n",
    "\n",
    "import torch\n",
    "import torch.nn as nn\n",
    "import torch.nn.functional as F\n",
    "\n",
    "import torchvision.transforms as transforms\n",
    "import torchvision.datasets as datasets\n",
    "from torch.utils.data import Dataset, DataLoader\n",
    "\n",
    "from scipy.spatial import cKDTree\n",
    "\n",
    "from icoCNN.tools import icosahedral_grid_coordinates, random_icosahedral_rotation_matrix, rotate_signal"
   ]
  },
  {
   "cell_type": "code",
   "execution_count": 2,
   "outputs": [],
   "source": [
    "from scipts.datasets import IcosahedralMNIST"
   ],
   "metadata": {
    "collapsed": false,
    "ExecuteTime": {
     "end_time": "2025-03-27T10:24:26.360498900Z",
     "start_time": "2025-03-27T10:24:26.293913300Z"
    }
   },
   "id": "dcd1896a6d6c96ce"
  },
  {
   "cell_type": "code",
   "execution_count": 3,
   "outputs": [],
   "source": [
    "import warnings\n",
    "warnings.filterwarnings('ignore')"
   ],
   "metadata": {
    "collapsed": false,
    "ExecuteTime": {
     "end_time": "2025-03-27T10:24:26.440241700Z",
     "start_time": "2025-03-27T10:24:26.360498900Z"
    }
   },
   "id": "12116393ce748001"
  },
  {
   "cell_type": "markdown",
   "source": [
    "# Datasets\n",
    "\n",
    "This notebook produces pre-computed datasets. Projecting onto the sphere and icosahedron, and performing augmentation are all pretty expensive; pre-computing these things serves the same purpose and lets us save lots of time in training and evaluation of models."
   ],
   "metadata": {
    "collapsed": false
   },
   "id": "fbc5846a059cad20"
  },
  {
   "cell_type": "code",
   "execution_count": 7,
   "outputs": [],
   "source": [
    "def ico_symmetry_augment(ico_signal, idx=None):\n",
    "    \"\"\"\n",
    "    Augments the given icosahedral signal by performing an icosahedral rotation.\n",
    "\n",
    "    Args:\n",
    "        - ico_signal (torch.Tensor): Shape [1, 1, 5, 2**r, 2**(r+1)].\n",
    "        - idx: which symmetry to perform. If None, performs randomly.\n",
    "    \"\"\"\n",
    "\n",
    "    # Sample a (possibly random) rotation matrix from the 60 icosahedral symmetries.\n",
    "    rotation_matrix = random_icosahedral_rotation_matrix(idx)\n",
    "\n",
    "    # Apply the rotation to the signal.\n",
    "    rotated_signal = rotate_signal(ico_signal, rotation_matrix)\n",
    "\n",
    "    return rotated_signal"
   ],
   "metadata": {
    "collapsed": false,
    "ExecuteTime": {
     "end_time": "2025-03-27T12:54:59.498884600Z",
     "start_time": "2025-03-27T12:54:59.498884600Z"
    }
   },
   "id": "b9674b6b6c14bc1e"
  },
  {
   "cell_type": "code",
   "execution_count": 5,
   "outputs": [],
   "source": [
    "def precompute_projected_mnist(coord_tensor, save_path='./ico_projected_mnist.pt', train=True, augment=False):\n",
    "    \"\"\"\n",
    "    Precomputes the icosahedral projections of the MNIST dataset and saves it.\n",
    "\n",
    "    Args:\n",
    "        coord_tensor (torch.Tensor): The icosahedral grid coordinates.\n",
    "        save_path (str): Path to save the projected dataset.\n",
    "        train (bool): Whether to use training or test MNIST data.\n",
    "    \"\"\"\n",
    "\n",
    "    # Load MNIST dataset\n",
    "    transform = transforms.Compose([transforms.ToTensor(), transforms.Normalize((0.5,), (0.5,))])\n",
    "    mnist_data = datasets.MNIST(root='./data', train=train, download=True, transform=transform)\n",
    "\n",
    "    projected_data = []\n",
    "    labels = []\n",
    "\n",
    "    for idx in tqdm(range(len(mnist_data)), desc='Projecting data.'):\n",
    "        image, label = mnist_data[idx]\n",
    "        image = image.squeeze().numpy()  # Convert to 28x28 numpy array.\n",
    "        image = (image - image.min()) / (image.max() - image.min())  # Normalize to [0,1].\n",
    "\n",
    "        # Generate spherical coordinates\n",
    "        rows, cols = image.shape\n",
    "        theta = np.linspace(0, np.pi, rows)  # Polar angle\n",
    "        phi = np.linspace(0, 2 * np.pi, cols)  # Azimuthal angle\n",
    "        theta, phi = np.meshgrid(theta, phi)\n",
    "\n",
    "        # Convert to Cartesian coordinates\n",
    "        x_proj = np.sin(theta) * np.cos(phi)\n",
    "        y_proj = np.sin(theta) * np.sin(phi)\n",
    "        z_proj = np.cos(theta)\n",
    "\n",
    "        proj_coords = np.vstack([x_proj.ravel(), y_proj.ravel(), z_proj.ravel()]).T\n",
    "        image_values = image.ravel()\n",
    "\n",
    "        # KD-tree for nearest neighbor lookup\n",
    "        tree = cKDTree(proj_coords)\n",
    "        input_coords = coord_tensor.reshape(-1, 3).numpy()\n",
    "        _, nearest_indices = tree.query(input_coords)\n",
    "\n",
    "        # Map MNIST pixels to icosahedral grid\n",
    "        interpolated_values = image_values[nearest_indices].reshape(coord_tensor.shape[:-1])\n",
    "\n",
    "        # Convert to tensor format\n",
    "        output_tensor = torch.tensor(interpolated_values, dtype=torch.float32).unsqueeze(0).unsqueeze(0)  # Shape: [1, 1, 5, 2**r, 2**(r+1)]\n",
    "\n",
    "        if augment:\n",
    "            output_tensor = ico_symmetry_augment(output_tensor)\n",
    "\n",
    "        projected_data.append(output_tensor)\n",
    "        labels.append(label)\n",
    "\n",
    "    # Save as a dictionary\n",
    "    torch.save({'data': torch.stack(projected_data), 'labels': torch.tensor(labels)}, save_path)\n",
    "    print(f\"Precomputed dataset saved at {save_path}\")"
   ],
   "metadata": {
    "collapsed": false,
    "ExecuteTime": {
     "end_time": "2025-03-27T10:24:37.286591700Z",
     "start_time": "2025-03-27T10:24:37.266620300Z"
    }
   },
   "id": "22afc42590476781"
  },
  {
   "cell_type": "code",
   "execution_count": 6,
   "outputs": [
    {
     "data": {
      "text/plain": "Projecting data.:   0%|          | 0/60000 [00:00<?, ?it/s]",
      "application/vnd.jupyter.widget-view+json": {
       "version_major": 2,
       "version_minor": 0,
       "model_id": "47c8ebc2205b455b99f81f27daa71751"
      }
     },
     "metadata": {},
     "output_type": "display_data"
    },
    {
     "name": "stdout",
     "output_type": "stream",
     "text": [
      "Precomputed dataset saved at ./data/IcoMNIST/ico_projected_mnist_augmented_(r=4).pt\n"
     ]
    }
   ],
   "source": [
    "# Pre-computing augmented datasets.\n",
    "for r in range(2, 5):\n",
    "    r = 4\n",
    "    ico_grid = torch.tensor(icosahedral_grid_coordinates(r))\n",
    "    precompute_projected_mnist(ico_grid, save_path=f'./data/IcoMNIST/ico_projected_mnist_augmented_(r={r}).pt', train=True, augment=True)\n",
    "    break"
   ],
   "metadata": {
    "collapsed": false,
    "ExecuteTime": {
     "end_time": "2025-03-27T11:48:21.928670200Z",
     "start_time": "2025-03-27T10:25:04.523152Z"
    }
   },
   "id": "bf9770e71a0fa01c"
  },
  {
   "cell_type": "code",
   "execution_count": 8,
   "outputs": [],
   "source": [
    "def precompute_projected_mnist_all_symmetries(coord_tensor, save_path='./ico_projected_mnist.pt', train=True):\n",
    "    \"\"\"\n",
    "    Precomputes the icosahedral projections of the MNIST dataset and saves it.\n",
    "\n",
    "    Args:\n",
    "        coord_tensor (torch.Tensor): The icosahedral grid coordinates.\n",
    "        save_path (str): Path to save the projected dataset.\n",
    "        train (bool): Whether to use training or test MNIST data.\n",
    "    \"\"\"\n",
    "\n",
    "    # Load MNIST dataset\n",
    "    transform = transforms.Compose([transforms.ToTensor(), transforms.Normalize((0.5,), (0.5,))])\n",
    "    mnist_data = datasets.MNIST(root='./data', train=train, download=True, transform=transform)\n",
    "\n",
    "    projected_data = []\n",
    "    labels = []\n",
    "\n",
    "    for idx in tqdm(range(len(mnist_data)), desc='Projecting data.'):\n",
    "        image, label = mnist_data[idx]\n",
    "        image = image.squeeze().numpy()  # Convert to 28x28 numpy array.\n",
    "        image = (image - image.min()) / (image.max() - image.min())  # Normalize to [0,1].\n",
    "\n",
    "        # Generate spherical coordinates\n",
    "        rows, cols = image.shape\n",
    "        theta = np.linspace(0, np.pi, rows)  # Polar angle\n",
    "        phi = np.linspace(0, 2 * np.pi, cols)  # Azimuthal angle\n",
    "        theta, phi = np.meshgrid(theta, phi)\n",
    "\n",
    "        # Convert to Cartesian coordinates\n",
    "        x_proj = np.sin(theta) * np.cos(phi)\n",
    "        y_proj = np.sin(theta) * np.sin(phi)\n",
    "        z_proj = np.cos(theta)\n",
    "\n",
    "        proj_coords = np.vstack([x_proj.ravel(), y_proj.ravel(), z_proj.ravel()]).T\n",
    "        image_values = image.ravel()\n",
    "\n",
    "        # KD-tree for nearest neighbor lookup\n",
    "        tree = cKDTree(proj_coords)\n",
    "        input_coords = coord_tensor.reshape(-1, 3).numpy()\n",
    "        _, nearest_indices = tree.query(input_coords)\n",
    "\n",
    "        # Map MNIST pixels to icosahedral grid\n",
    "        interpolated_values = image_values[nearest_indices].reshape(coord_tensor.shape[:-1])\n",
    "\n",
    "        # Convert to tensor format\n",
    "        output_tensor = torch.tensor(interpolated_values, dtype=torch.float32).unsqueeze(0).unsqueeze(0)  # Shape: [1, 1, 5, 2**r, 2**(r+1)]\n",
    "\n",
    "        # Produce an output tensor for all icosahedral symmetries.\n",
    "        for i in range(60):\n",
    "            augmented_tensor = ico_symmetry_augment(output_tensor, i)\n",
    "            projected_data.append(augmented_tensor)\n",
    "            labels.append(label)\n",
    "\n",
    "    # Save as a dictionary\n",
    "    torch.save({'data': torch.stack(projected_data), 'labels': torch.tensor(labels)}, save_path)\n",
    "    print(f\"Precomputed dataset saved at {save_path}\")"
   ],
   "metadata": {
    "collapsed": false,
    "ExecuteTime": {
     "end_time": "2025-03-27T12:56:49.802535300Z",
     "start_time": "2025-03-27T12:56:49.795920200Z"
    }
   },
   "id": "cc3413d3815edc2e"
  },
  {
   "cell_type": "code",
   "execution_count": 10,
   "outputs": [
    {
     "data": {
      "text/plain": "Projecting data.:   0%|          | 0/60000 [00:00<?, ?it/s]",
      "application/vnd.jupyter.widget-view+json": {
       "version_major": 2,
       "version_minor": 0,
       "model_id": "6d0e22f24459479a9097132a2e64a01d"
      }
     },
     "metadata": {},
     "output_type": "display_data"
    },
    {
     "name": "stdout",
     "output_type": "stream",
     "text": [
      "Precomputed dataset saved at ./data/IcoMNIST/ico_projected_mnist_all_symmetries(r=2).pt\n"
     ]
    },
    {
     "data": {
      "text/plain": "Projecting data.:   0%|          | 0/60000 [00:00<?, ?it/s]",
      "application/vnd.jupyter.widget-view+json": {
       "version_major": 2,
       "version_minor": 0,
       "model_id": "10d807da81f14b1fac9da429d4c300da"
      }
     },
     "metadata": {},
     "output_type": "display_data"
    },
    {
     "ename": "KeyboardInterrupt",
     "evalue": "",
     "output_type": "error",
     "traceback": [
      "\u001B[0;31m---------------------------------------------------------------------------\u001B[0m",
      "\u001B[0;31mKeyboardInterrupt\u001B[0m                         Traceback (most recent call last)",
      "Cell \u001B[0;32mIn[10], line 4\u001B[0m\n\u001B[1;32m      2\u001B[0m \u001B[38;5;28;01mfor\u001B[39;00m r \u001B[38;5;129;01min\u001B[39;00m \u001B[38;5;28mrange\u001B[39m(\u001B[38;5;241m2\u001B[39m, \u001B[38;5;241m5\u001B[39m):\n\u001B[1;32m      3\u001B[0m     ico_grid \u001B[38;5;241m=\u001B[39m torch\u001B[38;5;241m.\u001B[39mtensor(icosahedral_grid_coordinates(r))\n\u001B[0;32m----> 4\u001B[0m     \u001B[43mprecompute_projected_mnist_all_symmetries\u001B[49m\u001B[43m(\u001B[49m\u001B[43mico_grid\u001B[49m\u001B[43m,\u001B[49m\u001B[43m \u001B[49m\u001B[43msave_path\u001B[49m\u001B[38;5;241;43m=\u001B[39;49m\u001B[38;5;124;43mf\u001B[39;49m\u001B[38;5;124;43m'\u001B[39;49m\u001B[38;5;124;43m./data/IcoMNIST/ico_projected_mnist_all_symmetries(r=\u001B[39;49m\u001B[38;5;132;43;01m{\u001B[39;49;00m\u001B[43mr\u001B[49m\u001B[38;5;132;43;01m}\u001B[39;49;00m\u001B[38;5;124;43m).pt\u001B[39;49m\u001B[38;5;124;43m'\u001B[39;49m\u001B[43m,\u001B[49m\u001B[43m \u001B[49m\u001B[43mtrain\u001B[49m\u001B[38;5;241;43m=\u001B[39;49m\u001B[38;5;28;43;01mTrue\u001B[39;49;00m\u001B[43m)\u001B[49m\n",
      "Cell \u001B[0;32mIn[8], line 50\u001B[0m, in \u001B[0;36mprecompute_projected_mnist_all_symmetries\u001B[0;34m(coord_tensor, save_path, train)\u001B[0m\n\u001B[1;32m     48\u001B[0m \u001B[38;5;66;03m# Produce an output tensor for all icosahedral symmetries.\u001B[39;00m\n\u001B[1;32m     49\u001B[0m \u001B[38;5;28;01mfor\u001B[39;00m i \u001B[38;5;129;01min\u001B[39;00m \u001B[38;5;28mrange\u001B[39m(\u001B[38;5;241m60\u001B[39m):\n\u001B[0;32m---> 50\u001B[0m     augmented_tensor \u001B[38;5;241m=\u001B[39m \u001B[43mico_symmetry_augment\u001B[49m\u001B[43m(\u001B[49m\u001B[43moutput_tensor\u001B[49m\u001B[43m,\u001B[49m\u001B[43m \u001B[49m\u001B[43mi\u001B[49m\u001B[43m)\u001B[49m\n\u001B[1;32m     51\u001B[0m     projected_data\u001B[38;5;241m.\u001B[39mappend(augmented_tensor)\n\u001B[1;32m     52\u001B[0m     labels\u001B[38;5;241m.\u001B[39mappend(label)\n",
      "Cell \u001B[0;32mIn[7], line 14\u001B[0m, in \u001B[0;36mico_symmetry_augment\u001B[0;34m(ico_signal, idx)\u001B[0m\n\u001B[1;32m     11\u001B[0m rotation_matrix \u001B[38;5;241m=\u001B[39m random_icosahedral_rotation_matrix(idx)\n\u001B[1;32m     13\u001B[0m \u001B[38;5;66;03m# Apply the rotation to the signal.\u001B[39;00m\n\u001B[0;32m---> 14\u001B[0m rotated_signal \u001B[38;5;241m=\u001B[39m \u001B[43mrotate_signal\u001B[49m\u001B[43m(\u001B[49m\u001B[43mico_signal\u001B[49m\u001B[43m,\u001B[49m\u001B[43m \u001B[49m\u001B[43mrotation_matrix\u001B[49m\u001B[43m)\u001B[49m\n\u001B[1;32m     16\u001B[0m \u001B[38;5;28;01mreturn\u001B[39;00m rotated_signal\n",
      "File \u001B[0;32m~/anaconda3/envs/grl-wsl/lib/python3.11/site-packages/icoCNN/tools.py:130\u001B[0m, in \u001B[0;36mrotate_signal\u001B[0;34m(x, rotation_matrix, original_grid)\u001B[0m\n\u001B[1;32m    128\u001B[0m original_grid, rotated_grid \u001B[38;5;241m=\u001B[39m original_grid\u001B[38;5;241m.\u001B[39mreshape((\u001B[38;5;241m-\u001B[39m\u001B[38;5;241m1\u001B[39m, \u001B[38;5;241m3\u001B[39m)), rotated_grid\u001B[38;5;241m.\u001B[39mreshape((\u001B[38;5;241m-\u001B[39m\u001B[38;5;241m1\u001B[39m, \u001B[38;5;241m3\u001B[39m))\n\u001B[1;32m    129\u001B[0m D \u001B[38;5;241m=\u001B[39m cdist(original_grid, rotated_grid)\n\u001B[0;32m--> 130\u001B[0m reordered_indexes \u001B[38;5;241m=\u001B[39m D\u001B[38;5;241m.\u001B[39margmin(\u001B[38;5;241m0\u001B[39m)\n\u001B[1;32m    132\u001B[0m original_shape \u001B[38;5;241m=\u001B[39m x\u001B[38;5;241m.\u001B[39mshape\n\u001B[1;32m    133\u001B[0m x \u001B[38;5;241m=\u001B[39m x\u001B[38;5;241m.\u001B[39mreshape((\u001B[38;5;241m-\u001B[39m\u001B[38;5;241m1\u001B[39m, np\u001B[38;5;241m.\u001B[39mprod(x\u001B[38;5;241m.\u001B[39mshape[\u001B[38;5;241m-\u001B[39m\u001B[38;5;241m3\u001B[39m:])))\n",
      "\u001B[0;31mKeyboardInterrupt\u001B[0m: "
     ]
    }
   ],
   "source": [
    "# Pre-computing augmented datasets with ALL icosahedral symmetries.\n",
    "for r in range(3, 4):\n",
    "    ico_grid = torch.tensor(icosahedral_grid_coordinates(r))\n",
    "    precompute_projected_mnist_all_symmetries(ico_grid, save_path=f'./data/IcoMNIST/ico_projected_mnist_all_symmetries_(r={r}).pt', train=True)"
   ],
   "metadata": {
    "collapsed": false,
    "ExecuteTime": {
     "end_time": "2025-03-27T15:38:47.420674900Z",
     "start_time": "2025-03-27T13:40:07.487009700Z"
    }
   },
   "id": "104edef6c9e5b38f"
  }
 ],
 "metadata": {
  "kernelspec": {
   "display_name": "Python 3",
   "language": "python",
   "name": "python3"
  },
  "language_info": {
   "codemirror_mode": {
    "name": "ipython",
    "version": 2
   },
   "file_extension": ".py",
   "mimetype": "text/x-python",
   "name": "python",
   "nbconvert_exporter": "python",
   "pygments_lexer": "ipython2",
   "version": "2.7.6"
  }
 },
 "nbformat": 4,
 "nbformat_minor": 5
}
